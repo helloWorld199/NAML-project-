{
  "nbformat": 4,
  "nbformat_minor": 0,
  "metadata": {
    "colab": {
      "provenance": [],
      "collapsed_sections": [],
      "include_colab_link": true
    },
    "kernelspec": {
      "name": "python3",
      "display_name": "Python 3"
    },
    "language_info": {
      "name": "python"
    }
  },
  "cells": [
    {
      "cell_type": "markdown",
      "metadata": {
        "id": "view-in-github",
        "colab_type": "text"
      },
      "source": [
        "<a href=\"https://colab.research.google.com/github/helloWorld199/NAML-project-/blob/main/getting_data.ipynb\" target=\"_parent\"><img src=\"https://colab.research.google.com/assets/colab-badge.svg\" alt=\"Open In Colab\"/></a>"
      ]
    },
    {
      "cell_type": "code",
      "source": [
        "!pip install yfinance"
      ],
      "metadata": {
        "id": "AWFvlcGWzyv1"
      },
      "execution_count": null,
      "outputs": []
    },
    {
      "cell_type": "code",
      "source": [
        "!pip install yahoofinancials\n"
      ],
      "metadata": {
        "id": "t07qUr3Xzs4o"
      },
      "execution_count": null,
      "outputs": []
    },
    {
      "cell_type": "code",
      "execution_count": 4,
      "metadata": {
        "id": "3G4LM3uE8gEm"
      },
      "outputs": [],
      "source": [
        "#Thanks marci <3\n",
        "from yfinance import Ticker\n",
        "import pandas as pd\n",
        "from yahoofinancials import YahooFinancials\n",
        "import requests\n",
        "from tqdm import tqdm\n",
        "import time\n",
        "import pickle"
      ]
    },
    {
      "cell_type": "code",
      "source": [
        "def _download_one(ticker, start='2020-06-30', end='2022-10-30',\n",
        "                  auto_adjust=False, back_adjust=False,\n",
        "                  actions=False, interval=\"1d\", period = None,\n",
        "                  prepost=False, proxy=None, rounding=False):\n",
        "\n",
        "    return Ticker(ticker).history(period=period, interval=interval,\n",
        "                                  start=start, end=end, prepost=prepost,\n",
        "                                  actions=actions, auto_adjust=auto_adjust,\n",
        "                                  back_adjust=back_adjust, proxy=proxy,\n",
        "                                  rounding=rounding, many=True)"
      ],
      "metadata": {
        "id": "wfP2lsHl8otW"
      },
      "execution_count": 7,
      "outputs": []
    },
    {
      "cell_type": "code",
      "source": [
        "# Modify project and reference index according to your needs\n",
        "\n",
        "cryptos_url = \"https://raw.githubusercontent.com/helloWorld199/NAML-project-/main/cryptos.csv\"\n",
        "\n",
        "tickers_all = []\n",
        "for project in [\"nasdaq\"]: ## https://www.nasdaq.com/market-activity/cryptocurrency\n",
        "\n",
        "\n",
        "    # Load tickers\n",
        "    companies = pd.read_csv(cryptos_url)\n",
        "    tickers = companies['x'].tolist()\n",
        "    tickers = [a for a in tickers if a not in tickers_all and \"^\" not in a and r\"/\" not in a]\n",
        "    tickers_all += tickers\n",
        "\n",
        "    # Download prices\n",
        "    full_data = {}\n",
        "    for ticker in tqdm(tickers):\n",
        "        tckr = _download_one(ticker, actions=True)\n",
        "        full_data[ticker] = tckr\n",
        "        \n",
        "    for i in range(len(full_data)):\n",
        "        full_data[list(full_data.keys())[i]]['Symbol'] = list(full_data.keys())[i]    \n",
        "        \n",
        "    ohlc = pd.concat(full_data.values())\n",
        "    \n",
        "    ohlc = ohlc.drop(columns=['Dividends', 'Stock Splits']) ### We wont need these colums\n",
        "\n",
        "\n",
        "    ohlc.to_csv('Prices.csv')\n",
        "    print('\\ndone with this')"
      ],
      "metadata": {
        "colab": {
          "base_uri": "https://localhost:8080/"
        },
        "id": "kQSggGLG8zpD",
        "outputId": "33cb2b51-37a3-4847-a493-fa458562c157"
      },
      "execution_count": 8,
      "outputs": [
        {
          "output_type": "stream",
          "name": "stderr",
          "text": [
            "100%|██████████| 1/1 [00:00<00:00,  5.94it/s]"
          ]
        },
        {
          "output_type": "stream",
          "name": "stdout",
          "text": [
            "\n",
            "done with this\n"
          ]
        },
        {
          "output_type": "stream",
          "name": "stderr",
          "text": [
            "\n"
          ]
        }
      ]
    },
    {
      "cell_type": "code",
      "source": [],
      "metadata": {
        "id": "YVx4tkdMEZSS"
      },
      "execution_count": null,
      "outputs": []
    }
  ]
}